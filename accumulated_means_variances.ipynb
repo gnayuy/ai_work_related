{
 "cells": [
  {
   "cell_type": "code",
   "execution_count": 1,
   "id": "alert-insulin",
   "metadata": {},
   "outputs": [],
   "source": [
    "import numpy as np"
   ]
  },
  {
   "cell_type": "code",
   "execution_count": 2,
   "id": "adaptive-monte",
   "metadata": {},
   "outputs": [],
   "source": [
    "mat = np.array([[13.943706  ,  0.48612496, 12.524341  , 11.81465   , 11.688168  ,\n",
    "     13.212335  ,  0.67898816, 14.026382  , 10.337646  ,  0.        ],\n",
    "    [ 9.780795  ,  0.        ,  8.572793  ,  0.        ,  0.        ,\n",
    "      9.387457  ,  9.6507435 , 12.05626   , 10.941611  ,  0.        ],\n",
    "    [ 8.08488   ,  2.0558436 ,  0.        ,  0.        ,  0.        ,\n",
    "      6.108424  ,  6.999394  , 14.915204  ,  0.        ,  0.        ],\n",
    "    [ 7.598005  ,  0.        ,  0.        ,  0.        ,  0.        ,\n",
    "      0.        , 13.954146  , 12.071672  ,  0.        ,  0.        ],\n",
    "    [ 7.418293  ,  2.3013651 ,  0.        ,  0.        ,  0.        ,\n",
    "      1.6522441 ,  1.2802523 ,  4.670133  ,  0.        ,  1.8141401 ],\n",
    "    [ 7.3519673 , 11.9365425 ,  0.        ,  0.        ,  0.        ,\n",
    "     10.471861  ,  1.3283261 , 13.427968  ,  0.        ,  0.        ],\n",
    "    [ 7.112614  ,  0.9572367 ,  0.        ,  0.        ,  0.        ,\n",
    "      0.        , 12.291933  , 11.453973  ,  0.        ,  0.        ],\n",
    "    [ 6.7713814 , 14.202991  ,  0.        ,  0.        ,  0.        ,\n",
    "      7.2666445 ,  0.        ,  9.1314535 ,  0.        ,  0.        ],\n",
    "    [ 6.4445357 ,  0.70882684,  0.        ,  0.        ,  0.        ,\n",
    "      0.5089184 , 11.3104315 , 13.561408  ,  0.        ,  0.27678427],\n",
    "    [ 6.174405  ,  0.        ,  0.        ,  0.        ,  0.        ,\n",
    "      0.        ,  9.001685  , 11.029551  ,  0.        ,  0.31337234]])"
   ]
  },
  {
   "cell_type": "code",
   "execution_count": 3,
   "id": "empirical-brown",
   "metadata": {},
   "outputs": [],
   "source": [
    "mat1 = mat[0:5,:]\n",
    "mat2 = mat[5:,:]"
   ]
  },
  {
   "cell_type": "code",
   "execution_count": 4,
   "id": "requested-disco",
   "metadata": {},
   "outputs": [
    {
     "name": "stdout",
     "output_type": "stream",
     "text": [
      "means: [ 8.06805824  3.26489307  2.1097134   1.181465    1.1688168   4.8607884\n",
      "  6.64958996 11.63440045  2.1279257   0.24042967]\n",
      "variances: [ 4.74289105 24.87885619 18.5842991  12.56273592 12.29519441 22.91832537\n",
      " 25.85884228  7.89488237 18.13050982  0.28878518]\n"
     ]
    }
   ],
   "source": [
    "# ground truth in total\n",
    "# means\n",
    "means = np.squeeze(np.asarray(mat.mean(axis=0)))\n",
    "print(\"means:\", means)\n",
    "\n",
    "# variances\n",
    "mat_square = np.square(mat)\n",
    "variances = np.squeeze(np.asarray(mat_square.mean(axis=0))) - np.square(means)\n",
    "print(\"variances:\", variances)"
   ]
  },
  {
   "cell_type": "code",
   "execution_count": 5,
   "id": "front-mauritius",
   "metadata": {},
   "outputs": [
    {
     "name": "stdout",
     "output_type": "stream",
     "text": [
      "accumulated means: [ 8.06805824  3.26489307  2.1097134   1.181465    1.1688168   4.8607884\n",
      "  6.64958996 11.63440045  2.1279257   0.24042967]\n"
     ]
    }
   ],
   "source": [
    "# accumulated means\n",
    "mean1 = np.squeeze(np.asarray(mat1.mean(axis=0)))\n",
    "mean2 = np.squeeze(np.asarray(mat2.mean(axis=0)))\n",
    "\n",
    "print(\"accumulated means:\", (5*mean1+5*mean2)/10)"
   ]
  },
  {
   "cell_type": "code",
   "execution_count": 6,
   "id": "earned-disability",
   "metadata": {},
   "outputs": [
    {
     "name": "stdout",
     "output_type": "stream",
     "text": [
      "accumulated variances: [ 4.74289105 24.87885619 18.5842991  12.56273592 12.29519441 22.91832537\n",
      " 25.85884228  7.89488237 18.13050982  0.28878518]\n"
     ]
    }
   ],
   "source": [
    "# accumulated variances\n",
    "mat1_sq = np.square(mat1)\n",
    "mat2_sq = np.square(mat2)\n",
    "\n",
    "var1 = np.squeeze(np.asarray(mat1_sq.mean(axis=0))) - np.square(mean1)\n",
    "var2 = np.squeeze(np.asarray(mat2_sq.mean(axis=0))) - np.square(mean2)\n",
    "\n",
    "mean1_sq = np.square(mean1)\n",
    "mean2_sq = np.square(mean2)\n",
    "\n",
    "print(\"accumulated variances:\", (5*(var1+mean1_sq) + 5*(var2+mean2_sq))/10 - np.square(means))"
   ]
  },
  {
   "cell_type": "code",
   "execution_count": null,
   "id": "abstract-legend",
   "metadata": {},
   "outputs": [],
   "source": []
  }
 ],
 "metadata": {
  "kernelspec": {
   "display_name": "Python 3",
   "language": "python",
   "name": "python3"
  },
  "language_info": {
   "codemirror_mode": {
    "name": "ipython",
    "version": 3
   },
   "file_extension": ".py",
   "mimetype": "text/x-python",
   "name": "python",
   "nbconvert_exporter": "python",
   "pygments_lexer": "ipython3",
   "version": "3.8.5"
  }
 },
 "nbformat": 4,
 "nbformat_minor": 5
}
